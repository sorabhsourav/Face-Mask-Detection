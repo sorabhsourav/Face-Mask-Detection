{
 "cells": [
  {
   "cell_type": "code",
   "execution_count": 1,
   "id": "2abfe838",
   "metadata": {},
   "outputs": [
    {
     "name": "stdout",
     "output_type": "stream",
     "text": [
      "Requirement already satisfied: opencv-python in c:\\users\\acer\\appdata\\local\\programs\\python\\python310\\lib\\site-packages (4.5.5.64)\n",
      "Requirement already satisfied: numpy>=1.21.2 in c:\\users\\acer\\appdata\\local\\programs\\python\\python310\\lib\\site-packages (from opencv-python) (2.1.0)\n"
     ]
    }
   ],
   "source": [
    "!pip install opencv-python"
   ]
  },
  {
   "cell_type": "code",
   "execution_count": 2,
   "id": "3a6ff499",
   "metadata": {},
   "outputs": [
    {
     "ename": "RuntimeError",
     "evalue": "module compiled against ABI version 0x1000009 but this version of numpy is 0x2000000",
     "output_type": "error",
     "traceback": [
      "\u001b[1;31m---------------------------------------------------------------------------\u001b[0m",
      "\u001b[1;31mRuntimeError\u001b[0m                              Traceback (most recent call last)",
      "\u001b[1;31mRuntimeError\u001b[0m: module compiled against ABI version 0x1000009 but this version of numpy is 0x2000000"
     ]
    },
    {
     "ename": "ImportError",
     "evalue": "numpy.core.multiarray failed to import",
     "output_type": "error",
     "traceback": [
      "\u001b[1;31m---------------------------------------------------------------------------\u001b[0m",
      "\u001b[1;31mImportError\u001b[0m                               Traceback (most recent call last)",
      "Input \u001b[1;32mIn [2]\u001b[0m, in \u001b[0;36m<cell line: 1>\u001b[1;34m()\u001b[0m\n\u001b[1;32m----> 1\u001b[0m \u001b[38;5;28;01mimport\u001b[39;00m \u001b[38;5;21;01mcv2\u001b[39;00m\n",
      "File \u001b[1;32m~\\AppData\\Local\\Programs\\Python\\Python310\\lib\\site-packages\\cv2\\__init__.py:8\u001b[0m, in \u001b[0;36m<module>\u001b[1;34m\u001b[0m\n\u001b[0;32m      5\u001b[0m \u001b[38;5;28;01mimport\u001b[39;00m \u001b[38;5;21;01mimportlib\u001b[39;00m\n\u001b[0;32m      6\u001b[0m \u001b[38;5;28;01mimport\u001b[39;00m \u001b[38;5;21;01msys\u001b[39;00m\n\u001b[1;32m----> 8\u001b[0m \u001b[38;5;28;01mfrom\u001b[39;00m \u001b[38;5;21;01m.\u001b[39;00m\u001b[38;5;21;01mcv2\u001b[39;00m \u001b[38;5;28;01mimport\u001b[39;00m \u001b[38;5;241m*\u001b[39m\n\u001b[0;32m      9\u001b[0m \u001b[38;5;28;01mfrom\u001b[39;00m \u001b[38;5;21;01m.\u001b[39;00m\u001b[38;5;21;01mcv2\u001b[39;00m \u001b[38;5;28;01mimport\u001b[39;00m _registerMatType\n\u001b[0;32m     10\u001b[0m \u001b[38;5;28;01mfrom\u001b[39;00m \u001b[38;5;21;01m.\u001b[39;00m \u001b[38;5;28;01mimport\u001b[39;00m mat_wrapper\n",
      "\u001b[1;31mImportError\u001b[0m: numpy.core.multiarray failed to import"
     ]
    }
   ],
   "source": [
    "import cv2"
   ]
  },
  {
   "cell_type": "code",
   "execution_count": null,
   "id": "11161a39",
   "metadata": {},
   "outputs": [],
   "source": [
    "img = cv2.imread('cds.jpg')"
   ]
  },
  {
   "cell_type": "code",
   "execution_count": null,
   "id": "0d96683c",
   "metadata": {},
   "outputs": [],
   "source": [
    "img.shape"
   ]
  },
  {
   "cell_type": "code",
   "execution_count": null,
   "id": "a09fc924",
   "metadata": {},
   "outputs": [],
   "source": [
    "img[0]"
   ]
  },
  {
   "cell_type": "code",
   "execution_count": null,
   "id": "f98667ec",
   "metadata": {},
   "outputs": [],
   "source": [
    "!pip install matplotlib"
   ]
  },
  {
   "cell_type": "code",
   "execution_count": null,
   "id": "8e61724a",
   "metadata": {},
   "outputs": [],
   "source": [
    "import matplotlib.pyplot as plt"
   ]
  },
  {
   "cell_type": "code",
   "execution_count": null,
   "id": "be7bd061",
   "metadata": {},
   "outputs": [],
   "source": [
    "plt.imshow(img)"
   ]
  },
  {
   "cell_type": "code",
   "execution_count": null,
   "id": "3c385176",
   "metadata": {},
   "outputs": [],
   "source": [
    "while True:\n",
    "    cv2.imshow('result',img)\n",
    "    if cv2.waitKey(2) == 27:\n",
    "        break\n",
    "cv2.destroyAllWindows()"
   ]
  },
  {
   "cell_type": "code",
   "execution_count": null,
   "id": "d48491c4",
   "metadata": {},
   "outputs": [],
   "source": [
    "haar_data = cv2.CascadeClassifier('haarcascade_frontalface_default.xml')"
   ]
  },
  {
   "cell_type": "code",
   "execution_count": null,
   "id": "002f3790",
   "metadata": {},
   "outputs": [],
   "source": [
    "haar_data.detectMultiScale(img)"
   ]
  },
  {
   "cell_type": "code",
   "execution_count": null,
   "id": "224792e5",
   "metadata": {},
   "outputs": [],
   "source": [
    "#cv2.rectangle(img,(x,y),(w,h),(b,g,r),border_thickness)"
   ]
  },
  {
   "cell_type": "code",
   "execution_count": null,
   "id": "5fee142c",
   "metadata": {},
   "outputs": [],
   "source": [
    "while True:\n",
    "    faces = haar_data.detectMultiScale(img)\n",
    "    for x,y,w,h in faces:\n",
    "        cv2.rectangle(img,(x,y),(x+w,y+h),(255,0,0),4)#shows rectangle around face\n",
    "    cv2.imshow('result',img)\n",
    "    if cv2.waitKey(2) == 27:\n",
    "        break\n",
    "cv2.destroyAllWindows()"
   ]
  },
  {
   "cell_type": "code",
   "execution_count": null,
   "id": "ae899229",
   "metadata": {
    "scrolled": false
   },
   "outputs": [],
   "source": [
    "capture = cv2.VideoCapture(0)\n",
    "data = []\n",
    "while True:\n",
    "    flag, img = capture.read()\n",
    "    if flag:\n",
    "        faces =  haar_data.detectMultiScale(img)\n",
    "        for x,y,w,h in faces:\n",
    "            cv2.rectangle(img,(x,y),(x+w,y+h),(255,0,0),4)\n",
    "            face = img[y:y+h, x:x+w, :]\n",
    "            face = cv2.resize(face,(50,50))\n",
    "            print(len(data))\n",
    "            if len(data) < 400:\n",
    "                data.append(face)\n",
    "            \n",
    "        cv2.imshow('result',img)\n",
    "        if cv2.waitKey(2) == 27 or len(data) >= 200:#i have written 200 so it will stop at 200\n",
    "            break\n",
    "capture.release()\n",
    "cv2.destroyAllWindows()"
   ]
  },
  {
   "cell_type": "code",
   "execution_count": null,
   "id": "907c97da",
   "metadata": {},
   "outputs": [],
   "source": [
    "# also understand slicing in a numpy array"
   ]
  },
  {
   "cell_type": "code",
   "execution_count": null,
   "id": "d9cfe192",
   "metadata": {},
   "outputs": [],
   "source": [
    "#we will run this data code one time with no mask and save data in numpy \n",
    "#and then run again while wearing mask and save the data again"
   ]
  },
  {
   "cell_type": "code",
   "execution_count": null,
   "id": "d495bc36",
   "metadata": {},
   "outputs": [],
   "source": [
    "!pip install numpy"
   ]
  },
  {
   "cell_type": "code",
   "execution_count": null,
   "id": "11af7a1a",
   "metadata": {},
   "outputs": [],
   "source": [
    "import numpy as np"
   ]
  },
  {
   "cell_type": "code",
   "execution_count": null,
   "id": "1b12ae71",
   "metadata": {},
   "outputs": [],
   "source": [
    "np.save('without_mask.npy',data)"
   ]
  },
  {
   "cell_type": "code",
   "execution_count": null,
   "id": "d3725811",
   "metadata": {},
   "outputs": [],
   "source": [
    "np.save('with_mask.npy',data)"
   ]
  },
  {
   "cell_type": "code",
   "execution_count": null,
   "id": "658f9b92",
   "metadata": {},
   "outputs": [],
   "source": [
    "plt.imshow(data[0])"
   ]
  },
  {
   "cell_type": "code",
   "execution_count": null,
   "id": "8c9a90f7",
   "metadata": {},
   "outputs": [],
   "source": []
  }
 ],
 "metadata": {
  "kernelspec": {
   "display_name": "Python 3 (ipykernel)",
   "language": "python",
   "name": "python3"
  },
  "language_info": {
   "codemirror_mode": {
    "name": "ipython",
    "version": 3
   },
   "file_extension": ".py",
   "mimetype": "text/x-python",
   "name": "python",
   "nbconvert_exporter": "python",
   "pygments_lexer": "ipython3",
   "version": "3.10.3"
  }
 },
 "nbformat": 4,
 "nbformat_minor": 5
}
